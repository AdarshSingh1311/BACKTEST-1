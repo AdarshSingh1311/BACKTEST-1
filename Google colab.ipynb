{
  "nbformat": 4,
  "nbformat_minor": 0,
  "metadata": {
    "colab": {
      "provenance": [],
      "authorship_tag": "ABX9TyNolEFi+eW95s5gjpmyjS+V",
      "include_colab_link": true
    },
    "kernelspec": {
      "name": "python3",
      "display_name": "Python 3"
    },
    "language_info": {
      "name": "python"
    }
  },
  "cells": [
    {
      "cell_type": "markdown",
      "metadata": {
        "id": "view-in-github",
        "colab_type": "text"
      },
      "source": [
        "<a href=\"https://colab.research.google.com/github/AdarshSingh1311/BACKTEST-1/blob/main/Google%20colab.ipynb\" target=\"_parent\"><img src=\"https://colab.research.google.com/assets/colab-badge.svg\" alt=\"Open In Colab\"/></a>"
      ]
    },
    {
      "cell_type": "code",
      "execution_count": null,
      "metadata": {
        "id": "XTKfUwF7lvNd"
      },
      "outputs": [],
      "source": [
        "!pip install ta\n",
        "!pip install pandas_ta\n",
        "!pip install --upgrade breeze-connect==1.0.40"
      ]
    },
    {
      "cell_type": "code",
      "source": [],
      "metadata": {
        "id": "jBlTceqkmZPU"
      },
      "execution_count": null,
      "outputs": []
    },
    {
      "cell_type": "code",
      "source": [
        "import pandas as pd\n",
        "import numpy as np\n",
        "from datetime import datetime , timedelta\n",
        "from dateutil.relativedelta import relativedelta,TH , TU\n",
        "import warnings\n",
        "warnings.filterwarnings('ignore')\n",
        "import ta\n",
        "import pandas_ta as ta\n",
        "import matplotlib.pyplot as plt\n",
        "from breeze_connect import BreezeConnect\n",
        "\n",
        "# Initialize SDK\n",
        "breeze = BreezeConnect(api_key=\"f65&396497Vq0161W2d18ngV35%5755@\")\n",
        "\n",
        "# Obtain your session key from https://api.icicidirect.com/apiuser/login?api_key=YOUR_API_KEY\n",
        "# Incase your api-key has special characters(like +,=,!) then encode the api key before using in the url as shown below.\n",
        "import urllib\n",
        "print(\"https://api.icicidirect.com/apiuser/login?api_key=\"+urllib.parse.quote_plus(\"your_api_key\"))\n",
        "\n",
        "# Generate Session\n",
        "breeze.generate_session(api_secret=\"5l88!0708cJ04~74!X1V71a90j4~392+\",\n",
        "                        session_token=\"22545800\")\n"
      ],
      "metadata": {
        "id": "fFx-S1Gol9ft"
      },
      "execution_count": null,
      "outputs": []
    },
    {
      "cell_type": "code",
      "source": [],
      "metadata": {
        "id": "cDFUXzBxnZu-"
      },
      "execution_count": null,
      "outputs": []
    },
    {
      "cell_type": "code",
      "source": [
        "stock = 'TCS'\n",
        "emas = 5\n",
        "emal = 13\n",
        "rsi_p = 14\n",
        "rsi_u = 70\n",
        "rsi_l = 30\n",
        "\n",
        "trade = 0\n",
        "\n",
        "trade_log = []\n",
        "trade_detail = []\n",
        "trade_date = []\n",
        "trade_c = []\n"
      ],
      "metadata": {
        "id": "0tHjPEQ5mBXM"
      },
      "execution_count": null,
      "outputs": []
    },
    {
      "cell_type": "code",
      "source": [],
      "metadata": {
        "id": "JiybBH7OnaXG"
      },
      "execution_count": null,
      "outputs": []
    },
    {
      "cell_type": "code",
      "source": [
        "breeze.ws_connect()\n",
        "\n",
        "# Callback to receive ticks.\n",
        "def on_ticks(ticks):\n",
        "    #print(\"Ticks: {}\".format(ticks))\n",
        "    current_price = ticks['last']\n",
        "    open_price = ticks['open']\n",
        "    high_price = ticks['high']\n",
        "    low_price = ticks['low']\n",
        "    print(current_price , open_price , high_price , low_price)\n",
        "    #print(trade)\n",
        "\n",
        "    if datetime.now() >= MARKET_TRIG:\n",
        "        print('pop')\n",
        "        if  trade  == 0 :\n",
        "            c_ema1 , c_ema2 , p_ema1 , p_ema2 , c_rsi , p_rsi ,m = get_ema_rsi( current_price , high_price , low_price , open_price )\n",
        "            #print(c_ema1)\n",
        "            if signal(c_ema1 , c_ema2 , p_ema1 , p_ema2 , c_rsi , p_rsi , trade , m) == 1 :\n",
        "                #place_buy_order()\n",
        "                print('place_buy_order')\n",
        "        #print('lll')\n",
        "        if  trade == 1 :\n",
        "            if signal() == -1 :\n",
        "                #buy_square_off ()\n",
        "                print('buy_square_off')\n",
        "                #place_sell_order()\n",
        "                print('place_sell_order')\n",
        "\n",
        "        if  trade == 0 :\n",
        "            if signal(c_ema1 , c_ema2 , p_ema1 , p_ema2 , c_rsi , p_rsi , trade , m) == -1 :\n",
        "                #place_sell_order()\n",
        "                print('place_sell_order')\n",
        "\n",
        "        if  trade == -1 :\n",
        "            if signal(c_ema1 , c_ema2 , p_ema1 , p_ema2 , c_rsi , p_rsi , trade , m) == 1 :\n",
        "                #sell_square_off()\n",
        "                print('sell_square_off')\n",
        "                #place_buy_order()\n",
        "                print('place_buy_order')\n",
        "\n",
        "        if  trade == 1 :\n",
        "            if signal(c_ema1 , c_ema2 , p_ema1 , p_ema2 , c_rsi , p_rsi , trade , m) == 0 :\n",
        "                #place_sell_order()\n",
        "                print('place_sell_order')\n",
        "\n",
        "        if  trade == -1 :\n",
        "            if signal(c_ema1 , c_ema2 , p_ema1 , p_ema2 , c_rsi , p_rsi , trade , m) == 0 :\n",
        "                #place_buy_order()\n",
        "                print('place_buy_order')\n",
        "\n",
        "        #no trade\n",
        "        if trade == 0 :\n",
        "            if signal(c_ema1 , c_ema2 , p_ema1 , p_ema2 , c_rsi , p_rsi , trade , m) == 0 :\n",
        "                print('NO TRADES')\n",
        "\n",
        "\n",
        "breeze.on_ticks = on_ticks"
      ],
      "metadata": {
        "id": "f22SOMSRmnrE"
      },
      "execution_count": null,
      "outputs": []
    },
    {
      "cell_type": "code",
      "source": [],
      "metadata": {
        "id": "wu6WsB0f0W6U"
      },
      "execution_count": null,
      "outputs": []
    },
    {
      "cell_type": "code",
      "source": [
        "breeze.subscribe_feeds(exchange_code=\"NSE\",\n",
        "\n",
        "                       stock_code=\"TCS\",\n",
        "                       product_type=\"cash\",\n",
        "                       get_exchange_quotes=True,\n",
        "                       get_market_depth=False)"
      ],
      "metadata": {
        "id": "SchtSCozmuEG"
      },
      "execution_count": null,
      "outputs": []
    },
    {
      "cell_type": "code",
      "source": [],
      "metadata": {
        "id": "Z5e_0Vr3nbnF"
      },
      "execution_count": null,
      "outputs": []
    },
    {
      "cell_type": "code",
      "source": [
        "def get_ema_rsi( current_price , high_price , low_price , open_price ) :\n",
        "    now = datetime.now()\n",
        "    from_date = now - timedelta(days = 40)\n",
        "    now = now.strftime('%Y-%m-%dT%H:%M:%S.000Z')\n",
        "    from_date = from_date.strftime('%Y-%m-%dT%H:%M:%S.000Z')\n",
        "\n",
        "    try :\n",
        "        n = breeze.get_historical_data_v2(interval=\"1day\",\n",
        "                            from_date=  from_date,\n",
        "                            to_date=  now,\n",
        "                            stock_code= stock,\n",
        "                            exchange_code=\"NSE\",\n",
        "                            product_type=\"cash\")\n",
        "\n",
        "        if (n['Status'] == 200) :\n",
        "            m =pd.DataFrame(n['Success'])\n",
        "            m.index = m.datetime\n",
        "            m.drop( columns = {'datetime' , 'exchange_code' , 'stock_code' , 'volume' }  , inplace = True)\n",
        "            m.rename( {'datetime' : 'date'} , inplace = True)\n",
        "            # ADD TODAY'S LAST TICK DATA TO DATAFRAME\n",
        "            m.loc[datetime.now().strftime('%Y-%m-%d') + ' ' +  datetime.now().strftime('%H:%M:%S')]= [current_price , high_price , low_price , open_price ]\n",
        "            #print(emas,emal,rsi_p)\n",
        "            m['EMAS'] = ta.ema(m['close'], length=emas)\n",
        "            m['EMAL'] = ta.ema(m['close'], length=emal)\n",
        "\n",
        "            m['RSI'] = ta.rsi(m['close'] ,length = rsi_p)\n",
        "            #print(m)\n",
        "            c_ema1 =  m['EMAS'].iloc[-1]\n",
        "            c_ema2  = m['EMAL'].iloc[-1]\n",
        "            p_ema1 =  m['EMAS'].iloc[-2]\n",
        "            p_ema2  = m['EMAL'].iloc[-2]\n",
        "\n",
        "            c_rsi = m['RSI'].iloc[-1]\n",
        "            p_rsi = m['RSI'].iloc[-2]\n",
        "\n",
        "            return c_ema1 , c_ema2 , p_ema1 , p_ema2 , c_rsi , p_rsi , m\n",
        "            #print(c_ema1 , c_ema2 , p_ema1 , p_ema_2 , c_rsi , p_rsi)\n",
        "\n",
        "    except Exception as error :\n",
        "        print('Failed Historical API Request' , error )\n",
        "        return False\n",
        ""
      ],
      "metadata": {
        "id": "Do-zXl93mwA9"
      },
      "execution_count": null,
      "outputs": []
    },
    {
      "cell_type": "code",
      "source": [],
      "metadata": {
        "id": "nG8UoWlFncE2"
      },
      "execution_count": null,
      "outputs": []
    },
    {
      "cell_type": "code",
      "source": [
        "def signal ( c_ema1 , c_ema2 , p_ema1 , p_ema2 , c_rsi , p_rsi , trade , m) :\n",
        "    c_ema1 = c_ema1\n",
        "    c_ema2 = c_ema2\n",
        "    p_ema1 = p_ema1\n",
        "    p_ema2 = p_ema2\n",
        "    c_rsi = c_rsi\n",
        "    p_rsi = p_rsi\n",
        "    trade = trade\n",
        "    m = m\n",
        "    #c_ema1 , c_ema2 , p_ema1 , p_ema2 , c_rsi , p_rsi =  get_ema_rsi( current_price , high_price , low_price , open_price )\n",
        "    #print(c_ema1,c_ema2,p_ema1 , p_ema2 , c_rsi , p_rsi)\n",
        "\n",
        "    # long main entry exit\n",
        "    #print('HELLO')\n",
        "    #print(trade)\n",
        "    if  (p_ema1 < p_ema2) & (c_ema1 > c_ema1) & ( trade == 0) :\n",
        "        #print('ahead')\n",
        "        trade = 1\n",
        "        #trade_log.append( f' Long {stock}  at  {long_price} ' )\n",
        "        trade_detail.append( f' Long Crossover')\n",
        "        trade_date.append(m.index[-1])\n",
        "\n",
        "    if (p_ema1 > p_ema2 ) & (c_ema1 < c_ema2) & ( trade == 1) :\n",
        "        trade = -1\n",
        "        #trade_log.append(f' Long Exit {stock}  at  {long_exit_price} ')\n",
        "        #trade_log.append(f' Short {stock}  at  {short_price} ')\n",
        "        trade_detail.append( f' Crossover reversal Exit')\n",
        "        trade_detail.append( f' Short Crossover')\n",
        "        trade_date.append(m.index[-1])\n",
        "        trade_date.append(m.index[-1])\n",
        "\n",
        "    # Short main entry exit\n",
        "    if (p_ema1 > p_ema2) & (c_ema1 < c_ema2) & ( trade == 0) :\n",
        "        trade = -1\n",
        "        trade_c.append( [ -1 , t.index[i] ] )\n",
        "        #trade_log.append(f' Short {stock}  at  {short_price} ')\n",
        "        trade_detail.append( f' Short Crossover')\n",
        "        trade_date.append(m.index[-1])\n",
        "\n",
        "    if (p_ema1 < p_ema2) & (c_ema1 > c_ema2) & ( trade == -1) :\n",
        "        trade = 1\n",
        "        #trade_log.append(f' Short Exit {stock}  at  {short_exit_price} ')\n",
        "        #trade_log.append(f' Long {stock}  at  {long_price} ')\n",
        "        trade_detail.append( f' Crossover reversal Exit')\n",
        "        trade_detail.append( f' Long Crossover  Exit')\n",
        "        trade_date.append(m.index[-1])\n",
        "        trade_date.append(m.index[-1])\n",
        "\n",
        "    # Long trade re enrty exit\n",
        "    if ( trade == 1) & (p_rsi > rsi_u ) & (c_rsi < rsi_u ) :\n",
        "        trade = 0\n",
        "        #trade_log.append(f' Long Exit {stock}  at  {long_exit_price} ')\n",
        "        trade_detail.append( f' RSI BREACH EXIT')\n",
        "        trade_date.append(m.index[-1])\n",
        "\n",
        "    if (trade == 0)  & (p_rsi < rsi_u ) & (c_rsi > rsi_u ) :\n",
        "        trade = 1\n",
        "        #trade_log.append(f' Long {stock}  at  {long_price} ')\n",
        "        trade_detail.append( f' RSI RETNRY LONG')\n",
        "        trade_date.append(m.index[-1])\n",
        "\n",
        "    # Short trade re enrty exit\n",
        "    if  ( trade == -1) & (p_rsi < rsi_l ) & (c_rsi > rsi_l ) :\n",
        "        trade = 0\n",
        "        #trade_log.append(f' Short Exit {stock}  at  {short_exit_price} ')\n",
        "        trade_detail.append( f' RSI BREACH EXIT')\n",
        "        trade_date.append(m.index[-i])\n",
        "\n",
        "    if (trade == 0)  & (p_rsi > rsi_l ) & (c_rsi < rsi_l ) :\n",
        "        trade = -1\n",
        "        #trade_log.append(f' Short {stock}  at  {short_price} ')\n",
        "        trade_detail.append( f' RSI RETNRY SHORT')\n",
        "        trade_date.append(m.index[-1])\n",
        "\n",
        "\n",
        "    else :\n",
        "        trade_c.append([ trade, m.index[-1] ] )\n",
        "        #print('ok')\n",
        "\n",
        "    #print('done')\n",
        "    return trade\n"
      ],
      "metadata": {
        "id": "QfUBeZ6_m7_t"
      },
      "execution_count": null,
      "outputs": []
    },
    {
      "cell_type": "code",
      "source": [],
      "metadata": {
        "id": "r_TDcwVoncjt"
      },
      "execution_count": null,
      "outputs": []
    },
    {
      "cell_type": "code",
      "source": [
        "MARKET_TRIG = datetime.now().replace(hour = 11 , minute = 57, second = 0 , microsecond = 0)\n",
        "MARKET_CLOSE = datetime.now().replace(hour = 15 , minute = 25, second = 0 , microsecond = 0)"
      ],
      "metadata": {
        "id": "2-YbZxyHnA01"
      },
      "execution_count": null,
      "outputs": []
    },
    {
      "cell_type": "code",
      "source": [],
      "metadata": {
        "id": "OWsSBFbYndMe"
      },
      "execution_count": null,
      "outputs": []
    },
    {
      "cell_type": "code",
      "source": [
        "def timer () :\n",
        "    while(MARKET_CLOSE > datetime.now() > MARKET_TRIG  ) :\n",
        "        print( ' TRADES GETTING EXECUTED')\n",
        "        time.sleep(5000000000000)\n",
        "\n",
        "    if  ( datetime.now() >   MARKET_CLOSE ) :\n",
        "\n",
        "        breeze.unsubscribe_feeds(exchange_code=\"NSE\",\n",
        "                       stock_code=\"TCS\",\n",
        "                       product_type=\"cash\",\n",
        "                       get_exchange_quotes=True,\n",
        "                       get_market_depth=False)\n",
        "\n",
        "        api.ws_disconnect()\n",
        "\n",
        "\n",
        "    while (  datetime.now()  <  MARKET_TRIG ) :\n",
        "        print('NO EXECUTION OF TRADE')"
      ],
      "metadata": {
        "id": "1I92E6ZpnFTt"
      },
      "execution_count": null,
      "outputs": []
    },
    {
      "cell_type": "code",
      "source": [
        "timer()"
      ],
      "metadata": {
        "id": "Fa4UkJX-ndvO"
      },
      "execution_count": null,
      "outputs": []
    },
    {
      "cell_type": "code",
      "source": [
        "def ttimer () :\n",
        "  while True :\n",
        "    pass"
      ],
      "metadata": {
        "id": "M6RHWsXBnHtd"
      },
      "execution_count": null,
      "outputs": []
    },
    {
      "cell_type": "code",
      "source": [
        "ttimer()"
      ],
      "metadata": {
        "id": "d49HHY5RnJWW"
      },
      "execution_count": null,
      "outputs": []
    },
    {
      "cell_type": "code",
      "source": [
        "!pip install Connect\n",
        "!pip install bidict\n",
        "!pip install certifi\n",
        "!pip install chardet\n",
        "!pip install idna\n",
        "!pip install requests\n",
        "!pip install urllib3"
      ],
      "metadata": {
        "id": "wMh4xf4K7qMx"
      },
      "execution_count": null,
      "outputs": []
    },
    {
      "cell_type": "code",
      "source": [
        "!pip install -U connect.py"
      ],
      "metadata": {
        "id": "6R5vC1dwV77K"
      },
      "execution_count": null,
      "outputs": []
    },
    {
      "cell_type": "code",
      "source": [
        "import configparser\n",
        "import json\n",
        "import os\n",
        "import csv\n",
        "from threading import Thread\n",
        "#from MarketDataSocketClient import MDSocket_io\n"
      ],
      "metadata": {
        "id": "ghJkucUFnlWu"
      },
      "execution_count": null,
      "outputs": []
    },
    {
      "cell_type": "code",
      "source": [
        "!pip install Connect  # Install the module\n",
        "\n",
        "from Connect import XTSConnect"
      ],
      "metadata": {
        "colab": {
          "base_uri": "https://localhost:8080/",
          "height": 366
        },
        "id": "wPKSJybHnmDF",
        "outputId": "813687b6-a500-4c59-8ded-2e59bee1a660"
      },
      "execution_count": 2,
      "outputs": [
        {
          "output_type": "stream",
          "name": "stdout",
          "text": [
            "Requirement already satisfied: Connect in /usr/local/lib/python3.10/dist-packages (0.2)\n"
          ]
        },
        {
          "output_type": "error",
          "ename": "ModuleNotFoundError",
          "evalue": "ignored",
          "traceback": [
            "\u001b[0;31m---------------------------------------------------------------------------\u001b[0m",
            "\u001b[0;31mModuleNotFoundError\u001b[0m                       Traceback (most recent call last)",
            "\u001b[0;32m<ipython-input-2-e13f4e30c519>\u001b[0m in \u001b[0;36m<cell line: 3>\u001b[0;34m()\u001b[0m\n\u001b[1;32m      1\u001b[0m \u001b[0mget_ipython\u001b[0m\u001b[0;34m(\u001b[0m\u001b[0;34m)\u001b[0m\u001b[0;34m.\u001b[0m\u001b[0msystem\u001b[0m\u001b[0;34m(\u001b[0m\u001b[0;34m'pip install Connect  # Install the module'\u001b[0m\u001b[0;34m)\u001b[0m\u001b[0;34m\u001b[0m\u001b[0;34m\u001b[0m\u001b[0m\n\u001b[1;32m      2\u001b[0m \u001b[0;34m\u001b[0m\u001b[0m\n\u001b[0;32m----> 3\u001b[0;31m \u001b[0;32mfrom\u001b[0m \u001b[0mConnect\u001b[0m \u001b[0;32mimport\u001b[0m \u001b[0mXTSConnect\u001b[0m\u001b[0;34m\u001b[0m\u001b[0;34m\u001b[0m\u001b[0m\n\u001b[0m",
            "\u001b[0;31mModuleNotFoundError\u001b[0m: No module named 'Connect'",
            "",
            "\u001b[0;31m---------------------------------------------------------------------------\u001b[0;32m\nNOTE: If your import is failing due to a missing package, you can\nmanually install dependencies using either !pip or !apt.\n\nTo view examples of installing some common dependencies, click the\n\"Open Examples\" button below.\n\u001b[0;31m---------------------------------------------------------------------------\u001b[0m\n"
          ],
          "errorDetails": {
            "actions": [
              {
                "action": "open_url",
                "actionText": "Open Examples",
                "url": "/notebooks/snippets/importing_libraries.ipynb"
              }
            ]
          }
        }
      ]
    },
    {
      "cell_type": "code",
      "source": [
        "!pip install XTConnect\n"
      ],
      "metadata": {
        "id": "bB5KLlZBh3uH"
      },
      "execution_count": null,
      "outputs": []
    },
    {
      "cell_type": "code",
      "source": [
        "from XTConnect.Connect import XTSConnect"
      ],
      "metadata": {
        "id": "9YyD53LXaCSu"
      },
      "execution_count": null,
      "outputs": []
    },
    {
      "cell_type": "code",
      "source": [
        "pip install -r requirements.txt"
      ],
      "metadata": {
        "colab": {
          "base_uri": "https://localhost:8080/"
        },
        "id": "Rf9f99e9aCaO",
        "outputId": "99adb440-9b29-4b55-9d3d-9bd1f385ad7c"
      },
      "execution_count": 1,
      "outputs": [
        {
          "output_type": "stream",
          "name": "stdout",
          "text": [
            "Requirement already satisfied: bidict==0.21.2 in /usr/local/lib/python3.10/dist-packages (from -r requirements.txt (line 1)) (0.21.2)\n",
            "Requirement already satisfied: certifi==2020.12.5 in /usr/local/lib/python3.10/dist-packages (from -r requirements.txt (line 2)) (2020.12.5)\n",
            "Requirement already satisfied: chardet==4.0.0 in /usr/local/lib/python3.10/dist-packages (from -r requirements.txt (line 3)) (4.0.0)\n",
            "Requirement already satisfied: idna==2.10 in /usr/local/lib/python3.10/dist-packages (from -r requirements.txt (line 4)) (2.10)\n",
            "Requirement already satisfied: python-engineio==3.13.0 in /usr/local/lib/python3.10/dist-packages (from -r requirements.txt (line 5)) (3.13.0)\n",
            "Requirement already satisfied: python-socketio==4.6.0 in /usr/local/lib/python3.10/dist-packages (from -r requirements.txt (line 6)) (4.6.0)\n",
            "Requirement already satisfied: requests==2.25.1 in /usr/local/lib/python3.10/dist-packages (from -r requirements.txt (line 7)) (2.25.1)\n",
            "Requirement already satisfied: six==1.15.0 in /usr/local/lib/python3.10/dist-packages (from -r requirements.txt (line 8)) (1.15.0)\n",
            "Requirement already satisfied: urllib3==1.26.4 in /usr/local/lib/python3.10/dist-packages (from -r requirements.txt (line 9)) (1.26.4)\n",
            "Requirement already satisfied: websocket-client==0.57.0 in /usr/local/lib/python3.10/dist-packages (from -r requirements.txt (line 10)) (0.57.0)\n"
          ]
        }
      ]
    },
    {
      "cell_type": "code",
      "source": [
        "#\t[user]\n",
        "#source=WEBAPI\n",
        "\n",
        "#\t[SSL]\n",
        "disable_ssl=True\n",
        "\n",
        "#\t[root_url]\n",
        "#root=https://developers.symphonyfintech.in\n",
        "\n",
        "#accesspassword=2021HostLookUpAccess\n",
        "\n",
        "#version=interactiveapi_1.0.1\n",
        "\n",
        "#broadcastMode=Full"
      ],
      "metadata": {
        "id": "2-8Y4l2G4giQ"
      },
      "execution_count": 11,
      "outputs": []
    },
    {
      "cell_type": "code",
      "source": [
        "! pip install XTSConnect"
      ],
      "metadata": {
        "colab": {
          "base_uri": "https://localhost:8080/"
        },
        "id": "nUb_iLq67BDh",
        "outputId": "58dac43d-8275-4b8f-cf26-8e8f86770a3a"
      },
      "execution_count": 14,
      "outputs": [
        {
          "output_type": "stream",
          "name": "stdout",
          "text": [
            "\u001b[31mERROR: Could not find a version that satisfies the requirement XTSConnect (from versions: none)\u001b[0m\u001b[31m\n",
            "\u001b[0m\u001b[31mERROR: No matching distribution found for XTSConnect\u001b[0m\u001b[31m\n",
            "\u001b[0m"
          ]
        }
      ]
    },
    {
      "cell_type": "code",
      "source": [
        "\"\"\"API Credentials\"\"\"\n",
        "API_KEY = \"2d37c3e06ff898ba612277\"\n",
        "API_SECRET = \"Wqqv072@I#\"\n",
        "XTS_API_BASE_URL = \" http://ctrade.jainam.in:3000/\"\n",
        "source = \"WEBAPI\"\n",
        "\n",
        "\"\"\"Make XTSConnect object by passing your interactive API appKey, secretKey and source\"\"\"\n",
        "xt = XTSConnect(API_KEY, API_SECRET, source)\n"
      ],
      "metadata": {
        "colab": {
          "base_uri": "https://localhost:8080/",
          "height": 210
        },
        "id": "ZiEOX-cv4gr_",
        "outputId": "3a8eed10-2203-4e29-ac82-fb7054274c1f"
      },
      "execution_count": 12,
      "outputs": [
        {
          "output_type": "error",
          "ename": "NameError",
          "evalue": "ignored",
          "traceback": [
            "\u001b[0;31m---------------------------------------------------------------------------\u001b[0m",
            "\u001b[0;31mNameError\u001b[0m                                 Traceback (most recent call last)",
            "\u001b[0;32m<ipython-input-12-8121ba011b23>\u001b[0m in \u001b[0;36m<cell line: 8>\u001b[0;34m()\u001b[0m\n\u001b[1;32m      6\u001b[0m \u001b[0;34m\u001b[0m\u001b[0m\n\u001b[1;32m      7\u001b[0m \u001b[0;34m\"\"\"Make XTSConnect object by passing your interactive API appKey, secretKey and source\"\"\"\u001b[0m\u001b[0;34m\u001b[0m\u001b[0;34m\u001b[0m\u001b[0m\n\u001b[0;32m----> 8\u001b[0;31m \u001b[0mxt\u001b[0m \u001b[0;34m=\u001b[0m \u001b[0mXTSConnect\u001b[0m\u001b[0;34m(\u001b[0m\u001b[0mAPI_KEY\u001b[0m\u001b[0;34m,\u001b[0m \u001b[0mAPI_SECRET\u001b[0m\u001b[0;34m,\u001b[0m \u001b[0msource\u001b[0m\u001b[0;34m)\u001b[0m\u001b[0;34m\u001b[0m\u001b[0;34m\u001b[0m\u001b[0m\n\u001b[0m",
            "\u001b[0;31mNameError\u001b[0m: name 'XTSConnect' is not defined"
          ]
        }
      ]
    },
    {
      "cell_type": "code",
      "source": [],
      "metadata": {
        "id": "cD0Q5gwK04RC"
      },
      "execution_count": null,
      "outputs": []
    },
    {
      "cell_type": "code",
      "source": [
        "breeze.ws_connect()\n",
        "\n",
        "# Callback to receive ticks.\n",
        "def on_ticks(ticks):\n",
        "    print(\"Ticks: {}\".format(ticks))\n",
        "\n",
        "# Assign the callbacks.\n",
        "breeze.on_ticks = on_ticks"
      ],
      "metadata": {
        "id": "TzzsrncI0ZKE"
      },
      "execution_count": null,
      "outputs": []
    },
    {
      "cell_type": "code",
      "source": [
        "breeze.subscribe_feeds(exchange_code=\"NSE\",\n",
        "                       stock_code=\"TCS\",\n",
        "                       product_type=\"cash\",\n",
        "                       get_exchange_quotes=True,\n",
        "                       get_market_depth=False)"
      ],
      "metadata": {
        "id": "HCdTNRbB0mWT"
      },
      "execution_count": null,
      "outputs": []
    },
    {
      "cell_type": "code",
      "source": [
        "breeze.ws_disconnect()"
      ],
      "metadata": {
        "id": "PUFLoMcN1GMi"
      },
      "execution_count": null,
      "outputs": []
    },
    {
      "cell_type": "code",
      "source": [],
      "metadata": {
        "id": "JH0c1t5e1mIi"
      },
      "execution_count": null,
      "outputs": []
    },
    {
      "cell_type": "code",
      "source": [],
      "metadata": {
        "id": "XPgvomWT2xnK"
      },
      "execution_count": null,
      "outputs": []
    }
  ]
}